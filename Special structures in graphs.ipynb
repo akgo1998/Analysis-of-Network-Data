{
 "cells": [
  {
   "cell_type": "markdown",
   "metadata": {},
   "source": [
    "### Mathematical formulations for structure problems.\n",
    "#### Table of contents\n",
    "1. [Network generation](#network)\n",
    "2. [The maximum clique problem](#clique)\n",
    "    1. [The maximum independent set problem](#independent)\n",
    "3. [The maximum induced star problem](#star)\n",
    "4. [The maximum quasi-clique problem](#quasiclique)\n",
    "5. [The maximum $k$-club problem](#kclub)\n",
    "6. [Using networkx](#networkx)"
   ]
  },
  {
   "cell_type": "markdown",
   "metadata": {},
   "source": [
    "### Creating and visualizing the network <a name=\"network\"></a>"
   ]
  },
  {
   "cell_type": "code",
   "execution_count": null,
   "metadata": {},
   "outputs": [],
   "source": [
    "import matplotlib.pyplot as plt\n",
    "import networkx as nx\n",
    "from gurobipy import *\n",
    "from itertools import combinations\n",
    "\n",
    "G = nx.karate_club_graph()\n",
    "pos=nx.spring_layout(G)\n",
    "nx.draw(G, node_size=30, width=0.5)"
   ]
  },
  {
   "cell_type": "markdown",
   "metadata": {},
   "source": [
    "#### The maximum clique problem <a name=\"clique\"></a>\n",
    "\n",
    "$$\\max~~\\sum_{i\\in V} x_i$$\n",
    "$$\\text{s.t}~~x_i+x_j\\leq 1, ~\\forall \\left(i,j\\right)\\notin E$$\n",
    "$$~x_i\\in\\left\\{0,1\\right\\}, ~\\forall i\\in V.$$"
   ]
  },
  {
   "cell_type": "code",
   "execution_count": null,
   "metadata": {},
   "outputs": [],
   "source": [
    "model=Model(\"max_clique\")\n",
    "x=model.addVars(G.nodes(), vtype=GRB.BINARY, obj=-1)\n",
    "\n",
    "for (i,j) in combinations(G.nodes(),2):\n",
    "    if (i,j) not in G.edges():\n",
    "        model.addConstr(x[i]+x[j]<=1)\n",
    "model.optimize()"
   ]
  },
  {
   "cell_type": "markdown",
   "metadata": {},
   "source": [
    "#### Showing the max clique."
   ]
  },
  {
   "cell_type": "code",
   "execution_count": null,
   "metadata": {},
   "outputs": [],
   "source": [
    "clique_nodes=[i for i in G.nodes() if x[i].X==1]\n",
    "clique_edges=[(i,j) for (i,j) in G.edges() if i in clique_nodes and j in clique_nodes]\n",
    "\n",
    "nx.draw(G, pos, node_size=30, width=0.5, alpha=0.3)\n",
    "nx.draw_networkx_nodes(G, pos, nodelist=clique_nodes, node_color='r', node_size=40)\n",
    "nx.draw_networkx_edges(G, pos, edgelist=clique_edges, edge_color='r', width=0.75)"
   ]
  },
  {
   "cell_type": "markdown",
   "metadata": {},
   "source": [
    "#### The maximum independent set problem <a name=\"independent\"></a>\n",
    "\n",
    "$$\\max~~\\sum_{i\\in V} x_i$$\n",
    "$$\\text{s.t}~~x_i+x_j\\leq 1, ~\\forall \\left(i,j\\right)\\in E$$\n",
    "$$~x_i\\in\\left\\{0,1\\right\\}, ~\\forall i\\in V.$$"
   ]
  },
  {
   "cell_type": "code",
   "execution_count": null,
   "metadata": {},
   "outputs": [],
   "source": [
    "model=Model(\"max_independent_set\")\n",
    "x=model.addVars(G.nodes(), vtype=GRB.BINARY, obj=-1)\n",
    "\n",
    "for (i,j) in G.edges():\n",
    "    model.addConstr(x[i]+x[j]<=1)\n",
    "model.optimize()\n",
    "\n",
    "IS_nodes=[i for i in G.nodes() if x[i].X==1]\n",
    "\n",
    "nx.draw(G, pos, node_size=30, width=0.5, alpha=0.3)\n",
    "nx.draw_networkx_nodes(G, pos, nodelist=IS_nodes, node_color='r', node_size=40)"
   ]
  },
  {
   "cell_type": "markdown",
   "metadata": {},
   "source": [
    "#### The maximum induced star problem <a name=\"star\"></a>"
   ]
  },
  {
   "cell_type": "code",
   "execution_count": null,
   "metadata": {},
   "outputs": [],
   "source": [
    "model=Model(\"max_star\")\n",
    "y=model.addVars(G.nodes(), vtype=GRB.BINARY, obj=-1)\n",
    "x=model.addVars(G.nodes(), vtype=GRB.BINARY, obj=-1)\n",
    "\n",
    "for (i,j) in G.edges():\n",
    "    model.addConstr(y[i]+y[j]<=1)\n",
    "\n",
    "for i in G.nodes():\n",
    "    model.addConstr(y[i]<=quicksum(x[j] for j in G.neighbors(i)))\n",
    "\n",
    "model.addConstr(quicksum(x[i] for i in G.nodes())==1)\n",
    "    \n",
    "model.optimize()"
   ]
  },
  {
   "cell_type": "code",
   "execution_count": null,
   "metadata": {},
   "outputs": [],
   "source": [
    "star_nodes=[i for i in G.nodes() if y[i].X==1]\n",
    "center=[i for i in G.nodes() if x[i].X==1]\n",
    "star_edges=[(i,j) for (i,j) in G.edges() if i in star_nodes and j in center]\n",
    "\n",
    "nx.draw(G, pos, node_size=30, width=0.5, alpha=0.3)\n",
    "nx.draw_networkx_nodes(G, pos, nodelist=star_nodes, node_color='r', node_size=40)\n",
    "nx.draw_networkx_nodes(G, pos, nodelist=center, node_color='b', node_size=40)\n",
    "nx.draw_networkx_edges(G, pos, edgelist=star_edges, edge_color='r', width=0.75)"
   ]
  },
  {
   "cell_type": "markdown",
   "metadata": {},
   "source": [
    "#### The maximum quasi-clique problem <a name=\"quasiclique\"></a>"
   ]
  },
  {
   "cell_type": "code",
   "execution_count": null,
   "metadata": {},
   "outputs": [],
   "source": [
    "gamma=0.7\n",
    "model=Model(\"max_quasi_clique\")\n",
    "w={}\n",
    "for (i,j) in combinations(G.nodes(),2):\n",
    "    w[i,j]=model.addVar(vtype=GRB.BINARY)\n",
    "x=model.addVars(G.nodes(), vtype=GRB.BINARY, obj=-1)\n",
    "\n",
    "for (i,j) in combinations(G.nodes(),2):\n",
    "    model.addConstr(w[i,j]<=x[i])\n",
    "    model.addConstr(w[i,j]<=x[j])\n",
    "    model.addConstr(w[i,j]>=x[i]+x[j]-1)\n",
    "\n",
    "model.addConstr(quicksum(w[i,j] for (i,j) in G.edges())>=gamma*quicksum(w[i,j] for (i,j) in combinations(G.nodes(),2)))\n",
    "    \n",
    "model.optimize()"
   ]
  },
  {
   "cell_type": "code",
   "execution_count": null,
   "metadata": {},
   "outputs": [],
   "source": [
    "quasi_clique_nodes=[i for i in G.nodes() if x[i].X==1]\n",
    "quasi_clique_edges=[(i,j) for (i,j) in G.edges() if i in quasi_clique_nodes and j in quasi_clique_nodes]\n",
    "\n",
    "nx.draw(G, pos, node_size=30, width=0.5, alpha=0.3)\n",
    "nx.draw_networkx_nodes(G, pos, nodelist=quasi_clique_nodes, node_color='r', node_size=40)\n",
    "nx.draw_networkx_edges(G, pos, edgelist=quasi_clique_edges, edge_color='r', width=0.75)"
   ]
  },
  {
   "cell_type": "markdown",
   "metadata": {},
   "source": [
    "#### The maximum $\\boldsymbol{k}$-club problem <a name=\"kclub\"></a>"
   ]
  },
  {
   "cell_type": "code",
   "execution_count": null,
   "metadata": {},
   "outputs": [],
   "source": [
    "paths={}\n",
    "k=2\n",
    "model=Model(\"max_k_club\")\n",
    "for (i,j) in combinations(G.nodes(),2):\n",
    "    paths[i,j] = list(nx.all_simple_paths(G, source=i, target=j, cutoff=k))\n",
    "    \n",
    "x=model.addVars(G.nodes(), vtype=GRB.BINARY, obj=-1, name=\"x\"+str(i))\n",
    "y={}\n",
    "for (i,j) in combinations(G.nodes(),2):\n",
    "    for p in paths[i,j]:\n",
    "        y[tuple(p)]=model.addVar(vtype=GRB.BINARY, obj=0, name=\"y\"+str(p))\n",
    "\n",
    "for (i,j) in combinations(G.nodes(),2):\n",
    "    model.addConstr(x[i]+x[j]<=1+quicksum(y[tuple(p)] for p in paths[i,j]))\n",
    "for (i,j) in combinations(G.nodes(),2):\n",
    "    for p in paths[i,j]:\n",
    "        for ell in p:\n",
    "            model.addConstr(x[ell]>=y[tuple(p)])\n",
    "model.write(\"test.lp\")\n",
    "model.optimize()"
   ]
  },
  {
   "cell_type": "code",
   "execution_count": null,
   "metadata": {},
   "outputs": [],
   "source": [
    "k_club_nodes=[i for i in G.nodes() if x[i].X==1]\n",
    "k_club_edges=[(i,j) for (i,j) in G.edges() if i in k_club_nodes and j in k_club_nodes]\n",
    "\n",
    "nx.draw(G, pos, node_size=30, width=0.5, alpha=0.3)\n",
    "nx.draw_networkx_nodes(G, pos, nodelist=k_club_nodes, node_color='r', node_size=40)\n",
    "nx.draw_networkx_edges(G, pos, edgelist=k_club_edges, edge_color='r', width=0.75)"
   ]
  },
  {
   "cell_type": "markdown",
   "metadata": {},
   "source": [
    "#### Cliques and independent sets can also be found through ``networkx`` <a name=\"networkx\"></a>"
   ]
  },
  {
   "cell_type": "code",
   "execution_count": null,
   "metadata": {},
   "outputs": [],
   "source": [
    "from networkx.algorithms import approximation\n",
    "IS_nodes=approximation.maximum_independent_set(G)\n",
    "print(IS_nodes)\n",
    "clique_nodes=approximation.max_clique(G)\n",
    "print(clique_nodes)"
   ]
  },
  {
   "cell_type": "code",
   "execution_count": null,
   "metadata": {},
   "outputs": [],
   "source": [
    "clique_edges=[(i,j) for (i,j) in G.edges() if i in clique_nodes and j in clique_nodes]\n",
    "nx.draw(G, pos, node_size=30, width=0.5, alpha=0.3)\n",
    "nx.draw_networkx_nodes(G, pos, nodelist=clique_nodes, node_color='r', node_size=40)\n",
    "nx.draw_networkx_edges(G, pos, edgelist=clique_edges, edge_color='r', width=0.75)"
   ]
  },
  {
   "cell_type": "code",
   "execution_count": null,
   "metadata": {},
   "outputs": [],
   "source": [
    "nx.draw(G, pos, node_size=30, width=0.5, alpha=0.3)\n",
    "nx.draw_networkx_nodes(G, pos, nodelist=IS_nodes, node_color='r', node_size=40)"
   ]
  },
  {
   "cell_type": "code",
   "execution_count": null,
   "metadata": {},
   "outputs": [],
   "source": []
  }
 ],
 "metadata": {
  "kernelspec": {
   "display_name": "Python 3",
   "language": "python",
   "name": "python3"
  },
  "language_info": {
   "codemirror_mode": {
    "name": "ipython",
    "version": 3
   },
   "file_extension": ".py",
   "mimetype": "text/x-python",
   "name": "python",
   "nbconvert_exporter": "python",
   "pygments_lexer": "ipython3",
   "version": "3.8.5"
  }
 },
 "nbformat": 4,
 "nbformat_minor": 4
}
